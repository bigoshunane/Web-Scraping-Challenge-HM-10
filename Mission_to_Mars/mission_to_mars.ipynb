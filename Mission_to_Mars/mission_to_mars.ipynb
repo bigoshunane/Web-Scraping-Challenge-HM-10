{
 "cells": [
  {
   "cell_type": "markdown",
   "id": "6e110c5e",
   "metadata": {},
   "source": [
    "# Mission to Mars\n",
    "A web application that scrapes various websites for data related to planet Mars and displays the information in a single HTML page."
   ]
  },
  {
   "cell_type": "code",
   "execution_count": 40,
   "id": "1fb74799",
   "metadata": {},
   "outputs": [],
   "source": [
    "# Dependencies\n",
    "from splinter import Browser\n",
    "from bs4 import BeautifulSoup as bs\n",
    "import pandas as pd\n",
    "import requests\n",
    "import pymongo\n",
    "from flask import Flask, render_template, redirect\n",
    "from flask_pymongo import PyMongo\n",
    "from selenium import webdriver\n",
    "import time"
   ]
  },
  {
   "cell_type": "code",
   "execution_count": 41,
   "id": "9263a1ac",
   "metadata": {},
   "outputs": [
    {
     "name": "stdout",
     "output_type": "stream",
     "text": [
      "/usr/local/bin/chromedriver\r\n"
     ]
    }
   ],
   "source": [
    "\n",
    "# to find chromedriver binary path run the following command\n",
    "\n",
    "!which chromedriver"
   ]
  },
  {
   "cell_type": "code",
   "execution_count": 42,
   "id": "03a10602",
   "metadata": {},
   "outputs": [],
   "source": [
    "# - create a browser instance using splinter (FOR MAC) - \n",
    "\n",
    "executable_path = {'executable_path': '/usr/local/bin/chromedriver'}\n",
    "browser = Browser('chrome', **executable_path, headless=False)"
   ]
  },
  {
   "cell_type": "markdown",
   "id": "78847c9b",
   "metadata": {},
   "source": [
    "# Step 1 - Scraping\n",
    "\n",
    "# NASA Mars News\n",
    "\n",
    "   . save the latest News Title\n",
    "   \n",
    "   . save the latest News Paragraph"
   ]
  },
  {
   "cell_type": "code",
   "execution_count": 43,
   "id": "c31287fc",
   "metadata": {},
   "outputs": [
    {
     "name": "stdout",
     "output_type": "stream",
     "text": [
      "News Title:  NASA's MAVEN Explores Mars to Understand Radio Interference at Earth\n",
      "News Paragragh:  NASA’s MAVEN spacecraft has discovered “layers” and “rifts” in the electrically charged part of the upper atmosphere of Mars.\n"
     ]
    }
   ],
   "source": [
    "# Visit url for NASA Mars News -- Latest News\n",
    "news_url = \"https://redplanetscience.com/\"\n",
    "browser.visit(news_url)\n",
    "html = browser.html\n",
    "\n",
    "# Parse HTML with Beautiful Soup\n",
    "soup = bs(html, \"html.parser\")\n",
    "\n",
    "# Extract article title and paragraph text\n",
    "article = soup.find(\"div\", class_='list_text')\n",
    "news_title = article.find(\"div\", class_=\"content_title\").text\n",
    "news_p = article.find(\"div\", class_ =\"article_teaser_body\").text\n",
    "print(\"News Title: \",news_title)\n",
    "print(\"News Paragragh: \",news_p)"
   ]
  },
  {
   "cell_type": "markdown",
   "id": "26d5c9d5",
   "metadata": {},
   "source": [
    "# JPL Mars Space Images - Featured Image\n",
    "\n",
    ". Visit the url for the Featured Space Image site.\n",
    "\n",
    ". Use splinter to navigate the site and find the image url for the current Featured Mars Image and assign the url  string to a variable called featured_image_url.\n",
    "\n",
    "\n",
    ". Make sure to find the image url to the full size .jpg image.\n",
    "\n",
    ". Make sure to save a complete url string for this image."
   ]
  },
  {
   "cell_type": "code",
   "execution_count": 44,
   "id": "a18e6b59",
   "metadata": {},
   "outputs": [],
   "source": [
    "#  Visit url for JPL Featured Space Image\n",
    "\n",
    "url = \"https://spaceimages-mars.com/\"\n",
    "browser.visit(url)"
   ]
  },
  {
   "cell_type": "code",
   "execution_count": 45,
   "id": "86e10e7e",
   "metadata": {},
   "outputs": [],
   "source": [
    "# Parse HTML with Beautiful Soup\n",
    "\n",
    "html = browser.html\n",
    "soup = bs(html, \"html.parser\")\n"
   ]
  },
  {
   "cell_type": "code",
   "execution_count": 46,
   "id": "3be85394",
   "metadata": {},
   "outputs": [
    {
     "data": {
      "text/plain": [
       "'image/featured/mars2.jpg'"
      ]
     },
     "execution_count": 46,
     "metadata": {},
     "output_type": "execute_result"
    }
   ],
   "source": [
    "# Scrape the URL\n",
    "img = [i.get(\"src\") for i in soup.find_all(\"img\", class_=\"headerimage fade-in\")]\n",
    "img[0]"
   ]
  },
  {
   "cell_type": "code",
   "execution_count": 47,
   "id": "762a3fec",
   "metadata": {},
   "outputs": [
    {
     "data": {
      "text/plain": [
       "'https://spaceimages-mars.com/image/featured/mars2.jpg'"
      ]
     },
     "execution_count": 47,
     "metadata": {},
     "output_type": "execute_result"
    }
   ],
   "source": [
    "# Concatenate website url with scrapped route and print\n",
    "featured_image_url = url + img[0]\n",
    "featured_image_url"
   ]
  },
  {
   "cell_type": "markdown",
   "id": "651a1dec",
   "metadata": {},
   "source": [
    "# Mars Facts\n",
    "\n",
    ". Visit the Mars Facts webpage.\n",
    "\n",
    ". Use Pandas to scrape the table containing facts about the planet including Diameter, Mass, etc.\n",
    "\n",
    ". Use Pandas to convert the data to a HTML table string.\n",
    "\n",
    "\n",
    "\n"
   ]
  },
  {
   "cell_type": "code",
   "execution_count": 54,
   "id": "242421e1",
   "metadata": {},
   "outputs": [],
   "source": [
    "# Visit Mars webpage for Mars facts \n",
    "\n",
    "url = \"https://galaxyfacts-mars.com/\"\n",
    "browser.visit(url)\n",
    "html = browser.html\n",
    "soup = bs(html, \"html.parser\")"
   ]
  },
  {
   "cell_type": "code",
   "execution_count": 55,
   "id": "b8ca04f4",
   "metadata": {},
   "outputs": [
    {
     "data": {
      "text/plain": [
       "<table class=\"table\">\n",
       "<tbody>\n",
       "<tr>\n",
       "<th scope=\"row\"><b> Mars - Earth Comparison</b></th>\n",
       "<td><span class=\"orange\"><b> Mars</b></span></td>\n",
       "<td><span class=\"purple\"> <b>Earth </b></span> </td>\n",
       "</tr>\n",
       "<tr>\n",
       "<th scope=\"row\">Diameter:</th>\n",
       "<td><span class=\"orange\">6,779 km</span></td>\n",
       "<td><span class=\"purple\">12,742 km</span> </td>\n",
       "</tr>\n",
       "<tr>\n",
       "<th scope=\"row\">Mass:</th>\n",
       "<td><span class=\"orange\">6.39 × 10^23 kg </span></td>\n",
       "<td><span class=\"purple\">5.97 × 10^24 kg</span> </td>\n",
       "</tr>\n",
       "<tr>\n",
       "<th scope=\"row\">Moons:</th>\n",
       "<td><span class=\"orange\">2</span></td>\n",
       "<td><span class=\"purple\">1</span> </td>\n",
       "</tr>\n",
       "<tr>\n",
       "<th scope=\"row\">Distance from Sun:</th>\n",
       "<td><span class=\"orange\">227,943,824 km</span></td>\n",
       "<td><span class=\"purple\">149,598,262 km</span> </td>\n",
       "</tr>\n",
       "<tr>\n",
       "<th scope=\"row\">Length of Year:</th>\n",
       "<td><span class=\"orange\">687 Earth days</span></td>\n",
       "<td><span class=\"purple\">365.24 days</span> </td>\n",
       "</tr>\n",
       "<tr>\n",
       "<th scope=\"row\">Temperature:</th>\n",
       "<td><span class=\"orange\">-87 to -5 °C</span></td>\n",
       "<td><span class=\"purple\">\t-88 to 58°C</span> </td>\n",
       "</tr>\n",
       "</tbody>\n",
       "</table>"
      ]
     },
     "execution_count": 55,
     "metadata": {},
     "output_type": "execute_result"
    }
   ],
   "source": [
    "# Use Pandas to scrape the table containing facts about Mars\n",
    "table = soup.find_all(\"table\", class_=\"table\")[0]\n",
    "table\n"
   ]
  },
  {
   "cell_type": "code",
   "execution_count": 56,
   "id": "4f1680b2",
   "metadata": {},
   "outputs": [
    {
     "data": {
      "text/plain": [
       "[' Mars - Earth Comparison',\n",
       " 'Diameter:',\n",
       " 'Mass:',\n",
       " 'Moons:',\n",
       " 'Distance from Sun:',\n",
       " 'Length of Year:',\n",
       " 'Temperature:']"
      ]
     },
     "execution_count": 56,
     "metadata": {},
     "output_type": "execute_result"
    }
   ],
   "source": [
    "# loop through text to get table headers for Mars_Earth comparison\n",
    "table_header = [i.text for i in table(\"th\")]\n",
    "table_header"
   ]
  },
  {
   "cell_type": "code",
   "execution_count": 57,
   "id": "2bf5daa0",
   "metadata": {},
   "outputs": [
    {
     "data": {
      "text/plain": [
       "[' Mars',\n",
       " '6,779 km',\n",
       " '6.39 × 10^23 kg ',\n",
       " '2',\n",
       " '227,943,824 km',\n",
       " '687 Earth days',\n",
       " '-87 to -5 °C']"
      ]
     },
     "execution_count": 57,
     "metadata": {},
     "output_type": "execute_result"
    }
   ],
   "source": [
    "# loop through text to get table columns for Mars\n",
    "mars_column = [i.text for i in table(\"span\", class_=\"orange\")]\n",
    "mars_column"
   ]
  },
  {
   "cell_type": "code",
   "execution_count": 58,
   "id": "85f0c4bb",
   "metadata": {},
   "outputs": [
    {
     "data": {
      "text/plain": [
       "[' Earth ',\n",
       " '12,742 km',\n",
       " '5.97 × 10^24 kg',\n",
       " '1',\n",
       " '149,598,262 km',\n",
       " '365.24 days',\n",
       " '\\t-88 to 58°C']"
      ]
     },
     "execution_count": 58,
     "metadata": {},
     "output_type": "execute_result"
    }
   ],
   "source": [
    "# loop through text to get table columns for Earth\n",
    "\n",
    "earth_column = [i.text for i in table(\"span\", class_=\"purple\")]\n",
    "earth_column"
   ]
  },
  {
   "cell_type": "code",
   "execution_count": 60,
   "id": "92b6e1f6",
   "metadata": {},
   "outputs": [],
   "source": [
    "#Rename titles and asign Description to table header \n",
    "table_df = {\"Description\": table_header, \"Mars\": mars_column, \"Earth\": earth_column}"
   ]
  },
  {
   "cell_type": "code",
   "execution_count": 61,
   "id": "7c13bfd2",
   "metadata": {},
   "outputs": [],
   "source": [
    "df = pd.DataFrame(table_df)\n",
    "df.set_index(\"Description\", inplace=True)"
   ]
  },
  {
   "cell_type": "code",
   "execution_count": 62,
   "id": "289b495f",
   "metadata": {},
   "outputs": [
    {
     "data": {
      "text/html": [
       "<div>\n",
       "<style scoped>\n",
       "    .dataframe tbody tr th:only-of-type {\n",
       "        vertical-align: middle;\n",
       "    }\n",
       "\n",
       "    .dataframe tbody tr th {\n",
       "        vertical-align: top;\n",
       "    }\n",
       "\n",
       "    .dataframe thead th {\n",
       "        text-align: right;\n",
       "    }\n",
       "</style>\n",
       "<table border=\"1\" class=\"dataframe\">\n",
       "  <thead>\n",
       "    <tr style=\"text-align: right;\">\n",
       "      <th></th>\n",
       "      <th>Mars</th>\n",
       "      <th>Earth</th>\n",
       "    </tr>\n",
       "    <tr>\n",
       "      <th>Description</th>\n",
       "      <th></th>\n",
       "      <th></th>\n",
       "    </tr>\n",
       "  </thead>\n",
       "  <tbody>\n",
       "    <tr>\n",
       "      <th>Mars - Earth Comparison</th>\n",
       "      <td>Mars</td>\n",
       "      <td>Earth</td>\n",
       "    </tr>\n",
       "    <tr>\n",
       "      <th>Diameter:</th>\n",
       "      <td>6,779 km</td>\n",
       "      <td>12,742 km</td>\n",
       "    </tr>\n",
       "    <tr>\n",
       "      <th>Mass:</th>\n",
       "      <td>6.39 × 10^23 kg</td>\n",
       "      <td>5.97 × 10^24 kg</td>\n",
       "    </tr>\n",
       "    <tr>\n",
       "      <th>Moons:</th>\n",
       "      <td>2</td>\n",
       "      <td>1</td>\n",
       "    </tr>\n",
       "    <tr>\n",
       "      <th>Distance from Sun:</th>\n",
       "      <td>227,943,824 km</td>\n",
       "      <td>149,598,262 km</td>\n",
       "    </tr>\n",
       "    <tr>\n",
       "      <th>Length of Year:</th>\n",
       "      <td>687 Earth days</td>\n",
       "      <td>365.24 days</td>\n",
       "    </tr>\n",
       "    <tr>\n",
       "      <th>Temperature:</th>\n",
       "      <td>-87 to -5 °C</td>\n",
       "      <td>-88 to 58°C</td>\n",
       "    </tr>\n",
       "  </tbody>\n",
       "</table>\n",
       "</div>"
      ],
      "text/plain": [
       "                                      Mars            Earth\n",
       "Description                                                \n",
       " Mars - Earth Comparison              Mars           Earth \n",
       "Diameter:                         6,779 km        12,742 km\n",
       "Mass:                     6.39 × 10^23 kg   5.97 × 10^24 kg\n",
       "Moons:                                   2                1\n",
       "Distance from Sun:          227,943,824 km   149,598,262 km\n",
       "Length of Year:             687 Earth days      365.24 days\n",
       "Temperature:                  -87 to -5 °C      -88 to 58°C"
      ]
     },
     "execution_count": 62,
     "metadata": {},
     "output_type": "execute_result"
    }
   ],
   "source": [
    "df[\"Earth\"] = df[\"Earth\"].str.replace(\"\\t\", \"\")\n",
    "df"
   ]
  },
  {
   "cell_type": "markdown",
   "id": "9310fe4c",
   "metadata": {},
   "source": [
    "# Mars Hemispheres\n",
    "\n",
    ". Visit the astrogeology site here to obtain high resolution images for each of Mar's hemispheres.\n",
    "\n",
    ". You will need to click each of the links to the hemispheres in order to find the image url to the full resolution image.\n",
    "\n",
    ". Save both the image url string for the full resolution hemisphere image, and the Hemisphere title containing the hemisphere name. \n",
    "\n",
    ". Use a Python dictionary to store the data using the keys img_url and title.\n",
    "\n",
    ". Append the dictionary with the image url string and the hemisphere title to a list. This list will contain one dictionary for each hemisphere."
   ]
  },
  {
   "cell_type": "code",
   "execution_count": 25,
   "id": "0ca2c92f",
   "metadata": {},
   "outputs": [],
   "source": [
    "# Visit astrogeology webpage for Mar\"s hemispehere images\n",
    "url = \"https://marshemispheres.com/\"\n",
    "url_path = requests.get(url)\n",
    "soup = bs(url_path.content)"
   ]
  },
  {
   "cell_type": "code",
   "execution_count": 26,
   "id": "b609fc26",
   "metadata": {},
   "outputs": [],
   "source": [
    "# div_items\n",
    "div_item = soup.find_all(\"div\", class_=\"item\")"
   ]
  },
  {
   "cell_type": "code",
   "execution_count": 27,
   "id": "2737f013",
   "metadata": {},
   "outputs": [],
   "source": [
    "# Create dictionary to store titles & links to images\n",
    "links = []\n",
    "for i in div_item:\n",
    "    for a in i.find_all('a', href=True): \n",
    "        if a.text:\n",
    "            links.append(a['href'])"
   ]
  },
  {
   "cell_type": "code",
   "execution_count": 28,
   "id": "119a32d7",
   "metadata": {},
   "outputs": [
    {
     "data": {
      "text/plain": [
       "['https://marshemispheres.com/cerberus.html',\n",
       " 'https://marshemispheres.com/schiaparelli.html',\n",
       " 'https://marshemispheres.com/syrtis.html',\n",
       " 'https://marshemispheres.com/valles.html']"
      ]
     },
     "execution_count": 28,
     "metadata": {},
     "output_type": "execute_result"
    }
   ],
   "source": [
    "full_links = [url + i for i in links]\n",
    "full_links"
   ]
  },
  {
   "cell_type": "code",
   "execution_count": 29,
   "id": "30660abe",
   "metadata": {},
   "outputs": [],
   "source": [
    "def extract_image(url):\n",
    "    response = requests.get(url)\n",
    "    soup = bs(response.text, \"html.parser\")\n",
    "    image = soup.find_all(\"img\", class_=\"wide-image\")\n",
    "    img = [i.get(\"src\") for i in image]\n",
    "    return \"https://marshemispheres.com/\" + img[0]"
   ]
  },
  {
   "cell_type": "code",
   "execution_count": 30,
   "id": "ee64162e",
   "metadata": {},
   "outputs": [
    {
     "data": {
      "text/plain": [
       "['https://marshemispheres.com/images/f5e372a36edfa389625da6d0cc25d905_cerberus_enhanced.tif_full.jpg',\n",
       " 'https://marshemispheres.com/images/3778f7b43bbbc89d6e3cfabb3613ba93_schiaparelli_enhanced.tif_full.jpg',\n",
       " 'https://marshemispheres.com/images/555e6403a6ddd7ba16ddb0e471cadcf7_syrtis_major_enhanced.tif_full.jpg',\n",
       " 'https://marshemispheres.com/images/b3c7c6c9138f57b4756be9b9c43e3a48_valles_marineris_enhanced.tif_full.jpg']"
      ]
     },
     "execution_count": 30,
     "metadata": {},
     "output_type": "execute_result"
    }
   ],
   "source": [
    "img_url = [extract_image(i) for i in full_links]\n",
    "img_url"
   ]
  },
  {
   "cell_type": "code",
   "execution_count": 31,
   "id": "f4e70e6a",
   "metadata": {},
   "outputs": [],
   "source": [
    "def image_title(url):\n",
    "    response = requests.get(url)\n",
    "    soup = bs(response.text, \"html.parser\")\n",
    "    title = soup.find_all(\"h2\", class_=\"title\")\n",
    "    title_text = [i.text for i in title]\n",
    "    return title_text[0]"
   ]
  },
  {
   "cell_type": "code",
   "execution_count": 32,
   "id": "cedb9b66",
   "metadata": {},
   "outputs": [
    {
     "data": {
      "text/plain": [
       "['Cerberus Hemisphere Enhanced',\n",
       " 'Schiaparelli Hemisphere Enhanced',\n",
       " 'Syrtis Major Hemisphere Enhanced',\n",
       " 'Valles Marineris Hemisphere Enhanced']"
      ]
     },
     "execution_count": 32,
     "metadata": {},
     "output_type": "execute_result"
    }
   ],
   "source": [
    "# Print titles\n",
    "title = [image_title(i) for i in full_links]\n",
    "title"
   ]
  },
  {
   "cell_type": "code",
   "execution_count": 33,
   "id": "27195e7d",
   "metadata": {},
   "outputs": [
    {
     "data": {
      "text/plain": [
       "[('Cerberus Hemisphere Enhanced',\n",
       "  'https://marshemispheres.com/images/f5e372a36edfa389625da6d0cc25d905_cerberus_enhanced.tif_full.jpg'),\n",
       " ('Schiaparelli Hemisphere Enhanced',\n",
       "  'https://marshemispheres.com/images/3778f7b43bbbc89d6e3cfabb3613ba93_schiaparelli_enhanced.tif_full.jpg'),\n",
       " ('Syrtis Major Hemisphere Enhanced',\n",
       "  'https://marshemispheres.com/images/555e6403a6ddd7ba16ddb0e471cadcf7_syrtis_major_enhanced.tif_full.jpg'),\n",
       " ('Valles Marineris Hemisphere Enhanced',\n",
       "  'https://marshemispheres.com/images/b3c7c6c9138f57b4756be9b9c43e3a48_valles_marineris_enhanced.tif_full.jpg')]"
      ]
     },
     "execution_count": 33,
     "metadata": {},
     "output_type": "execute_result"
    }
   ],
   "source": [
    "list_tups = list(zip(title, img_url))\n",
    "list_tups"
   ]
  },
  {
   "cell_type": "code",
   "execution_count": 34,
   "id": "55f74951",
   "metadata": {},
   "outputs": [],
   "source": [
    "def get_dict_list(keys, list_of_tups):\n",
    "    list_of_dict = [dict(zip(keys, values)) for values in list_of_tups]\n",
    "    return list_of_dict"
   ]
  },
  {
   "cell_type": "code",
   "execution_count": 50,
   "id": "834e1f4f",
   "metadata": {},
   "outputs": [
    {
     "data": {
      "text/plain": [
       "[{'title': 'Cerberus Hemisphere Enhanced',\n",
       "  'img_url': 'https://marshemispheres.com/images/f5e372a36edfa389625da6d0cc25d905_cerberus_enhanced.tif_full.jpg'},\n",
       " {'title': 'Schiaparelli Hemisphere Enhanced',\n",
       "  'img_url': 'https://marshemispheres.com/images/3778f7b43bbbc89d6e3cfabb3613ba93_schiaparelli_enhanced.tif_full.jpg'},\n",
       " {'title': 'Syrtis Major Hemisphere Enhanced',\n",
       "  'img_url': 'https://marshemispheres.com/images/555e6403a6ddd7ba16ddb0e471cadcf7_syrtis_major_enhanced.tif_full.jpg'},\n",
       " {'title': 'Valles Marineris Hemisphere Enhanced',\n",
       "  'img_url': 'https://marshemispheres.com/images/b3c7c6c9138f57b4756be9b9c43e3a48_valles_marineris_enhanced.tif_full.jpg'}]"
      ]
     },
     "execution_count": 50,
     "metadata": {},
     "output_type": "execute_result"
    }
   ],
   "source": [
    "\n",
    "keys = (\"title\", \"img_url\")\n",
    "hemisphere_image_urls = get_dict_list(keys, list_tups)\n",
    "hemisphere_image_urls"
   ]
  },
  {
   "cell_type": "code",
   "execution_count": null,
   "id": "99bfedce",
   "metadata": {},
   "outputs": [],
   "source": []
  }
 ],
 "metadata": {
  "kernelspec": {
   "display_name": "Python 3 (ipykernel)",
   "language": "python",
   "name": "python3"
  },
  "language_info": {
   "codemirror_mode": {
    "name": "ipython",
    "version": 3
   },
   "file_extension": ".py",
   "mimetype": "text/x-python",
   "name": "python",
   "nbconvert_exporter": "python",
   "pygments_lexer": "ipython3",
   "version": "3.9.7"
  }
 },
 "nbformat": 4,
 "nbformat_minor": 5
}
